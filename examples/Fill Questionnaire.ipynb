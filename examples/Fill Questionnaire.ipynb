{
  "nbformat": 4,
  "nbformat_minor": 0,
  "metadata": {
    "colab": {
      "name": "Fill Questionnaire.ipynb",
      "provenance": []
    },
    "kernelspec": {
      "name": "python3",
      "display_name": "Python 3"
    },
    "language_info": {
      "name": "python"
    }
  },
  "cells": [
    {
      "cell_type": "markdown",
      "metadata": {
        "id": "gRg9AW0eJzYQ"
      },
      "source": [
        "# NCHU 期末問卷自動填答\n",
        "\n",
        "> Author: Tomy Hsieh <[tomy0000000](https://github.com/tomy0000000)>\n",
        "\n",
        "- ⭐️ 好用的話，請幫我按顆 [star](https://github.com/tomy0000000/NCHU-SDK)\n",
        "- 🐞 回報 bug 請至 [GitHub Issue](https://github.com/tomy0000000/NCHU-SDK/issues)\n",
        "- ❓ 使用問題及疑慮請至 [GitHub Discussions](https://github.com/tomy0000000/NCHU-SDK/discussions)\n"
      ]
    },
    {
      "cell_type": "code",
      "metadata": {
        "id": "8kO017SOFwI0",
        "colab": {
          "base_uri": "https://localhost:8080/"
        },
        "outputId": "dd72529b-791b-4aa1-aae0-4fc70bf36be9"
      },
      "source": [
        "pip install git+https://github.com/tomy0000000/NCHU-SDK"
      ],
      "execution_count": 1,
      "outputs": [
        {
          "output_type": "stream",
          "text": [
            "Collecting git+https://github.com/tomy0000000/NCHU-SDK\n",
            "  Cloning https://github.com/tomy0000000/NCHU-SDK to /tmp/pip-req-build-t3qiv184\n",
            "  Running command git clone -q https://github.com/tomy0000000/NCHU-SDK /tmp/pip-req-build-t3qiv184\n",
            "  Installing build dependencies ... \u001b[?25l\u001b[?25hdone\n",
            "  Getting requirements to build wheel ... \u001b[?25l\u001b[?25hdone\n",
            "    Preparing wheel metadata ... \u001b[?25l\u001b[?25hdone\n",
            "Building wheels for collected packages: nchu-sdk\n",
            "  Building wheel for nchu-sdk (PEP 517) ... \u001b[?25l\u001b[?25hdone\n",
            "  Created wheel for nchu-sdk: filename=nchu_sdk-0.0.1-cp37-none-any.whl size=6024 sha256=d51e4c057e4a9dfdaea20dd028cd939ee534b73f5543e2da54531615e9a31781\n",
            "  Stored in directory: /tmp/pip-ephem-wheel-cache-mwsu_28t/wheels/41/cf/14/f00205da3ff147c557d503771e813a1555dfecc5b43172e28d\n",
            "Successfully built nchu-sdk\n",
            "Installing collected packages: nchu-sdk\n",
            "Successfully installed nchu-sdk-0.0.1\n"
          ],
          "name": "stdout"
        }
      ]
    },
    {
      "cell_type": "code",
      "metadata": {
        "id": "9NVZGecbFyJT"
      },
      "source": [
        "from nchu import Student"
      ],
      "execution_count": 2,
      "outputs": []
    },
    {
      "cell_type": "code",
      "metadata": {
        "colab": {
          "base_uri": "https://localhost:8080/"
        },
        "id": "yhmo_wDfCurG",
        "outputId": "ab7f2186-39f4-47df-93c3-18c106fc7e7f"
      },
      "source": [
        "# 登入\n",
        "# 密碼僅供本次執行使用，不會儲存或傳送至其他地方，請放心使用\n",
        "student = Student()"
      ],
      "execution_count": 3,
      "outputs": [
        {
          "output_type": "stream",
          "text": [
            "Username: 4107056042\n",
            "Password: ··········\n"
          ],
          "name": "stdout"
        }
      ]
    },
    {
      "cell_type": "code",
      "metadata": {
        "id": "jp4K_7_pI4yx"
      },
      "source": [
        "# 取得所有問卷\n",
        "questionnaires = student.get_questionnaire()"
      ],
      "execution_count": 4,
      "outputs": []
    },
    {
      "cell_type": "code",
      "metadata": {
        "colab": {
          "base_uri": "https://localhost:8080/"
        },
        "id": "0YqPAzQtJARQ",
        "outputId": "62275f88-cea0-4157-cc12-3a0be2a7acc8"
      },
      "source": [
        "# 檢查問卷\n",
        "display_field = [\"完成填答\", \"選課號碼\", \"授課教師\", \"課程名稱\"]\n",
        "for q in questionnaires:\n",
        "  print(\"\\t\".join([str(q[f]) for f in display_field]))"
      ],
      "execution_count": 5,
      "outputs": [
        {
          "output_type": "stream",
          "text": [
            "True\t0349\t陳彥蓉\t古典音樂賞析\n",
            "False\t0406\t林志龍\t社會學\n",
            "False\t0413\t譚偉恩\t愛情與政治\n",
            "False\t0551\t李林滄\t力學與數學的歷史發展\n",
            "False\t3132\t王宗銘\t色彩科學導論與應用\n",
            "False\t3311\t陳煥\t智慧物聯網應用與實作\n"
          ],
          "name": "stdout"
        }
      ]
    },
    {
      "cell_type": "code",
      "metadata": {
        "colab": {
          "base_uri": "https://localhost:8080/"
        },
        "id": "rcSRdQgXJYGa",
        "outputId": "e8d13a6a-6058-4aa8-998a-ec0b4a7b3f0d"
      },
      "source": [
        "for q in questionnaires:  # 對於所有的問卷\n",
        "  if not q[\"完成填答\"]:  # 如果還沒填答\n",
        "    result = student.fill_questionnaire(q) # 填答\n",
        "    if result:\n",
        "      print(f\"{q['課程名稱']} 填寫完成\")\n",
        "    else:\n",
        "      print(f\"{q['課程名稱']} 填寫失敗\")"
      ],
      "execution_count": 6,
      "outputs": [
        {
          "output_type": "stream",
          "text": [
            "社會學 填寫完成\n",
            "愛情與政治 填寫完成\n",
            "力學與數學的歷史發展 填寫完成\n",
            "色彩科學導論與應用 填寫完成\n",
            "智慧物聯網應用與實作 填寫完成\n"
          ],
          "name": "stdout"
        }
      ]
    },
    {
      "cell_type": "code",
      "metadata": {
        "id": "3-zNNmkCJdW3"
      },
      "source": [
        "# 取得 TA 問卷\n",
        "ta_questionnaires = student.get_ta_questionnaire()\n",
        "completeness = [q for course in ta_questionnaires for q in course[\"完成填答\"]]\n",
        "ta_questionnaires = [q for course in ta_questionnaires for q in course[\"TA意見調查\"]]"
      ],
      "execution_count": 7,
      "outputs": []
    },
    {
      "cell_type": "code",
      "metadata": {
        "colab": {
          "base_uri": "https://localhost:8080/"
        },
        "id": "fJjy5ELCDFxP",
        "outputId": "29606b58-cb91-4d82-a191-4758c8301e76"
      },
      "source": [
        "# 檢查問卷\n",
        "for done, q in zip(completeness, ta_questionnaires):\n",
        "  print(f\"{done}\\t{q['v_scrd_serial_no']}\\t{q['v_emp_name']}\\t{q['v_ta']}\\t{q['v_subj_chn_name']}\")"
      ],
      "execution_count": 8,
      "outputs": [
        {
          "output_type": "stream",
          "text": [
            "True\t0406\t林志龍\t洪嘉佑\t社會學\n",
            "False\t0413\t譚偉恩\t陳芃亘\t愛情與政治\n",
            "False\t0413\t譚偉恩\t段宜辰\t愛情與政治\n",
            "False\t0413\t譚偉恩\t許惠晴\t愛情與政治\n",
            "False\t0551\t李林滄\t曾德宥\t力學與數學的歷史發展\n"
          ],
          "name": "stdout"
        }
      ]
    },
    {
      "cell_type": "code",
      "metadata": {
        "colab": {
          "base_uri": "https://localhost:8080/"
        },
        "id": "MpbWboZEDNyh",
        "outputId": "68d65b28-db29-4ee4-d6a9-65c0c7777ab3"
      },
      "source": [
        "for done, q in zip(completeness, ta_questionnaires):  # 對於所有的問卷\n",
        "  if not done:  # 如果還沒填答\n",
        "    result = student.fill_ta_questionnaire(q) # 填答\n",
        "    if result:\n",
        "      print(f\"{q['v_subj_chn_name']} ({q['v_ta']}) 填寫完成\")\n",
        "    else:\n",
        "      print(f\"{q['v_subj_chn_name']} ({q['v_ta']}) 填寫失敗\")"
      ],
      "execution_count": 9,
      "outputs": [
        {
          "output_type": "stream",
          "text": [
            "愛情與政治 (陳芃亘) 填寫完成\n",
            "愛情與政治 (段宜辰) 填寫完成\n",
            "愛情與政治 (許惠晴) 填寫完成\n",
            "力學與數學的歷史發展 (曾德宥) 填寫完成\n"
          ],
          "name": "stdout"
        }
      ]
    },
    {
      "cell_type": "code",
      "metadata": {
        "id": "zFQu3oY0EV-k"
      },
      "source": [
        ""
      ],
      "execution_count": null,
      "outputs": []
    }
  ]
}